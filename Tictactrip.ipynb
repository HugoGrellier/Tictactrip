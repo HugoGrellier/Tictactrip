{
  "nbformat": 4,
  "nbformat_minor": 0,
  "metadata": {
    "colab": {
      "name": "Tictactrip.ipynb",
      "provenance": [],
      "collapsed_sections": []
    },
    "kernelspec": {
      "name": "python3",
      "display_name": "Python 3"
    }
  },
  "cells": [
    {
      "cell_type": "markdown",
      "metadata": {
        "id": "jM2NnjcYFdAQ"
      },
      "source": [
        "## Intro/ préparation"
      ]
    },
    {
      "cell_type": "markdown",
      "metadata": {
        "id": "-KvD2XC5F1ls"
      },
      "source": [
        "Ici, j'importe les bibliothèques de nécessaire et modifie les options pour rendre les graphe et tableau plus lisible Ensuite j'upload sur google colab les fichier csv\r\n",
        "\r\n"
      ]
    },
    {
      "cell_type": "code",
      "metadata": {
        "id": "ii4pZSJBQMPS"
      },
      "source": [
        "# Render our plots inline\r\n",
        "%matplotlib inline\r\n",
        "\r\n",
        "import pandas as pd\r\n",
        "import matplotlib.pyplot as plt\r\n",
        "\r\n",
        "# Make the graphs a bit prettier, and bigger\r\n",
        "plt.style.use('ggplot')\r\n",
        "plt.rcParams['figure.figsize'] = (15, 5)"
      ],
      "execution_count": 2,
      "outputs": []
    },
    {
      "cell_type": "code",
      "metadata": {
        "colab": {
          "resources": {
            "http://localhost:8080/nbextensions/google.colab/files.js": {
              "data": "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",
              "ok": true,
              "headers": [
                [
                  "content-type",
                  "application/javascript"
                ]
              ],
              "status": 200,
              "status_text": ""
            }
          },
          "base_uri": "https://localhost:8080/",
          "height": 174
        },
        "id": "2MvChgzMGb0w",
        "outputId": "13441206-0442-40b6-b0b9-750df0a14ccd"
      },
      "source": [
        "# upload files from the local drive to the google colab\r\n",
        "from google.colab import files\r\n",
        "uploaded = files.upload()"
      ],
      "execution_count": 24,
      "outputs": [
        {
          "output_type": "display_data",
          "data": {
            "text/html": [
              "\n",
              "     <input type=\"file\" id=\"files-f1d0a2eb-865c-4bac-abfa-19d086ae54e0\" name=\"files[]\" multiple disabled\n",
              "        style=\"border:none\" />\n",
              "     <output id=\"result-f1d0a2eb-865c-4bac-abfa-19d086ae54e0\">\n",
              "      Upload widget is only available when the cell has been executed in the\n",
              "      current browser session. Please rerun this cell to enable.\n",
              "      </output>\n",
              "      <script src=\"/nbextensions/google.colab/files.js\"></script> "
            ],
            "text/plain": [
              "<IPython.core.display.HTML object>"
            ]
          },
          "metadata": {
            "tags": []
          }
        },
        {
          "output_type": "stream",
          "text": [
            "Saving cities.csv to cities (1).csv\n",
            "Saving providers.csv to providers (1).csv\n",
            "Saving stations.csv to stations (1).csv\n",
            "Saving ticket_data.csv to ticket_data (1).csv\n"
          ],
          "name": "stdout"
        }
      ]
    },
    {
      "cell_type": "code",
      "metadata": {
        "id": "Pt9-z5xOOwp3"
      },
      "source": [
        "# create data_frame for each files\r\n",
        "df_cities=pd.read_csv('cities.csv')\r\n",
        "df_providers=pd.read_csv('providers.csv')\r\n",
        "df_stations=pd.read_csv('stations.csv')\r\n",
        "df_ticket=pd.read_csv('ticket_data.csv')"
      ],
      "execution_count": 3,
      "outputs": []
    },
    {
      "cell_type": "markdown",
      "metadata": {
        "id": "od610jekDVoc"
      },
      "source": [
        "### Affichage de la structure des dataframes"
      ]
    },
    {
      "cell_type": "code",
      "metadata": {
        "colab": {
          "base_uri": "https://localhost:8080/",
          "height": 204
        },
        "id": "DKgmeZ_oa6_S",
        "outputId": "d76bba64-653e-4149-ca50-074e58244f4b"
      },
      "source": [
        "df_cities.head()"
      ],
      "execution_count": 63,
      "outputs": [
        {
          "output_type": "execute_result",
          "data": {
            "text/html": [
              "<div>\n",
              "<style scoped>\n",
              "    .dataframe tbody tr th:only-of-type {\n",
              "        vertical-align: middle;\n",
              "    }\n",
              "\n",
              "    .dataframe tbody tr th {\n",
              "        vertical-align: top;\n",
              "    }\n",
              "\n",
              "    .dataframe thead th {\n",
              "        text-align: right;\n",
              "    }\n",
              "</style>\n",
              "<table border=\"1\" class=\"dataframe\">\n",
              "  <thead>\n",
              "    <tr style=\"text-align: right;\">\n",
              "      <th></th>\n",
              "      <th>id</th>\n",
              "      <th>local_name</th>\n",
              "      <th>unique_name</th>\n",
              "      <th>latitude</th>\n",
              "      <th>longitude</th>\n",
              "      <th>population</th>\n",
              "    </tr>\n",
              "  </thead>\n",
              "  <tbody>\n",
              "    <tr>\n",
              "      <th>0</th>\n",
              "      <td>5159</td>\n",
              "      <td>Padua, Veneto, Italia</td>\n",
              "      <td>padua</td>\n",
              "      <td>45.406435</td>\n",
              "      <td>11.876761</td>\n",
              "      <td>209678.0</td>\n",
              "    </tr>\n",
              "    <tr>\n",
              "      <th>1</th>\n",
              "      <td>76</td>\n",
              "      <td>Barcelona, Cataluña, España</td>\n",
              "      <td>barcelona</td>\n",
              "      <td>41.385064</td>\n",
              "      <td>2.173404</td>\n",
              "      <td>1611822.0</td>\n",
              "    </tr>\n",
              "    <tr>\n",
              "      <th>2</th>\n",
              "      <td>81</td>\n",
              "      <td>Basel, Basel-Stadt, Schweiz</td>\n",
              "      <td>basel</td>\n",
              "      <td>47.593437</td>\n",
              "      <td>7.619812</td>\n",
              "      <td>NaN</td>\n",
              "    </tr>\n",
              "    <tr>\n",
              "      <th>3</th>\n",
              "      <td>259</td>\n",
              "      <td>Erlangen, Bayern, Deutschland</td>\n",
              "      <td>erlangen</td>\n",
              "      <td>49.589674</td>\n",
              "      <td>11.011961</td>\n",
              "      <td>105412.0</td>\n",
              "    </tr>\n",
              "    <tr>\n",
              "      <th>4</th>\n",
              "      <td>11979</td>\n",
              "      <td>Balș, Olt, România</td>\n",
              "      <td>balș</td>\n",
              "      <td>44.353354</td>\n",
              "      <td>24.095672</td>\n",
              "      <td>NaN</td>\n",
              "    </tr>\n",
              "  </tbody>\n",
              "</table>\n",
              "</div>"
            ],
            "text/plain": [
              "      id                     local_name  ...  longitude  population\n",
              "0   5159          Padua, Veneto, Italia  ...  11.876761    209678.0\n",
              "1     76    Barcelona, Cataluña, España  ...   2.173404   1611822.0\n",
              "2     81    Basel, Basel-Stadt, Schweiz  ...   7.619812         NaN\n",
              "3    259  Erlangen, Bayern, Deutschland  ...  11.011961    105412.0\n",
              "4  11979             Balș, Olt, România  ...  24.095672         NaN\n",
              "\n",
              "[5 rows x 6 columns]"
            ]
          },
          "metadata": {
            "tags": []
          },
          "execution_count": 63
        }
      ]
    },
    {
      "cell_type": "code",
      "metadata": {
        "colab": {
          "base_uri": "https://localhost:8080/",
          "height": 204
        },
        "id": "DGPNRvNpa7Hn",
        "outputId": "ea6faf0b-a926-4f30-c1f6-c001bf7affbf"
      },
      "source": [
        "df_providers.head()"
      ],
      "execution_count": null,
      "outputs": [
        {
          "output_type": "execute_result",
          "data": {
            "text/html": [
              "<div>\n",
              "<style scoped>\n",
              "    .dataframe tbody tr th:only-of-type {\n",
              "        vertical-align: middle;\n",
              "    }\n",
              "\n",
              "    .dataframe tbody tr th {\n",
              "        vertical-align: top;\n",
              "    }\n",
              "\n",
              "    .dataframe thead th {\n",
              "        text-align: right;\n",
              "    }\n",
              "</style>\n",
              "<table border=\"1\" class=\"dataframe\">\n",
              "  <thead>\n",
              "    <tr style=\"text-align: right;\">\n",
              "      <th></th>\n",
              "      <th>id</th>\n",
              "      <th>company_id</th>\n",
              "      <th>provider_id</th>\n",
              "      <th>name</th>\n",
              "      <th>fullname</th>\n",
              "      <th>has_wifi</th>\n",
              "      <th>has_plug</th>\n",
              "      <th>has_adjustable_seats</th>\n",
              "      <th>has_bicycle</th>\n",
              "      <th>transport_type</th>\n",
              "    </tr>\n",
              "  </thead>\n",
              "  <tbody>\n",
              "    <tr>\n",
              "      <th>0</th>\n",
              "      <td>9</td>\n",
              "      <td>1</td>\n",
              "      <td>NaN</td>\n",
              "      <td>ouibus</td>\n",
              "      <td>Ouibus</td>\n",
              "      <td>True</td>\n",
              "      <td>True</td>\n",
              "      <td>True</td>\n",
              "      <td>False</td>\n",
              "      <td>bus</td>\n",
              "    </tr>\n",
              "    <tr>\n",
              "      <th>1</th>\n",
              "      <td>10</td>\n",
              "      <td>2</td>\n",
              "      <td>NaN</td>\n",
              "      <td>deinbus</td>\n",
              "      <td>Deinbus.de</td>\n",
              "      <td>False</td>\n",
              "      <td>False</td>\n",
              "      <td>False</td>\n",
              "      <td>False</td>\n",
              "      <td>bus</td>\n",
              "    </tr>\n",
              "    <tr>\n",
              "      <th>2</th>\n",
              "      <td>11</td>\n",
              "      <td>3</td>\n",
              "      <td>NaN</td>\n",
              "      <td>infobus</td>\n",
              "      <td>Infobus</td>\n",
              "      <td>False</td>\n",
              "      <td>False</td>\n",
              "      <td>False</td>\n",
              "      <td>False</td>\n",
              "      <td>bus</td>\n",
              "    </tr>\n",
              "    <tr>\n",
              "      <th>3</th>\n",
              "      <td>12</td>\n",
              "      <td>4</td>\n",
              "      <td>NaN</td>\n",
              "      <td>studentAgency</td>\n",
              "      <td>Student Agency</td>\n",
              "      <td>False</td>\n",
              "      <td>False</td>\n",
              "      <td>False</td>\n",
              "      <td>False</td>\n",
              "      <td>bus</td>\n",
              "    </tr>\n",
              "    <tr>\n",
              "      <th>4</th>\n",
              "      <td>13</td>\n",
              "      <td>5</td>\n",
              "      <td>NaN</td>\n",
              "      <td>flixbus</td>\n",
              "      <td>Flixbus</td>\n",
              "      <td>True</td>\n",
              "      <td>False</td>\n",
              "      <td>False</td>\n",
              "      <td>False</td>\n",
              "      <td>bus</td>\n",
              "    </tr>\n",
              "  </tbody>\n",
              "</table>\n",
              "</div>"
            ],
            "text/plain": [
              "   id  company_id provider_id  ... has_adjustable_seats has_bicycle transport_type\n",
              "0   9           1         NaN  ...                 True       False            bus\n",
              "1  10           2         NaN  ...                False       False            bus\n",
              "2  11           3         NaN  ...                False       False            bus\n",
              "3  12           4         NaN  ...                False       False            bus\n",
              "4  13           5         NaN  ...                False       False            bus\n",
              "\n",
              "[5 rows x 10 columns]"
            ]
          },
          "metadata": {
            "tags": []
          },
          "execution_count": 40
        }
      ]
    },
    {
      "cell_type": "code",
      "metadata": {
        "colab": {
          "base_uri": "https://localhost:8080/",
          "height": 204
        },
        "id": "WQujSbv4a7tL",
        "outputId": "4c14f331-0eec-4805-867b-50b46fe36786"
      },
      "source": [
        "df_stations.head()"
      ],
      "execution_count": null,
      "outputs": [
        {
          "output_type": "execute_result",
          "data": {
            "text/html": [
              "<div>\n",
              "<style scoped>\n",
              "    .dataframe tbody tr th:only-of-type {\n",
              "        vertical-align: middle;\n",
              "    }\n",
              "\n",
              "    .dataframe tbody tr th {\n",
              "        vertical-align: top;\n",
              "    }\n",
              "\n",
              "    .dataframe thead th {\n",
              "        text-align: right;\n",
              "    }\n",
              "</style>\n",
              "<table border=\"1\" class=\"dataframe\">\n",
              "  <thead>\n",
              "    <tr style=\"text-align: right;\">\n",
              "      <th></th>\n",
              "      <th>id</th>\n",
              "      <th>unique_name</th>\n",
              "      <th>latitude</th>\n",
              "      <th>longitude</th>\n",
              "    </tr>\n",
              "  </thead>\n",
              "  <tbody>\n",
              "    <tr>\n",
              "      <th>0</th>\n",
              "      <td>1</td>\n",
              "      <td>Aalen (Stuttgarter Straße)</td>\n",
              "      <td>48.835296</td>\n",
              "      <td>10.092956</td>\n",
              "    </tr>\n",
              "    <tr>\n",
              "      <th>1</th>\n",
              "      <td>2</td>\n",
              "      <td>Aéroport Bordeaux-Mérignac</td>\n",
              "      <td>44.830226</td>\n",
              "      <td>-0.700883</td>\n",
              "    </tr>\n",
              "    <tr>\n",
              "      <th>2</th>\n",
              "      <td>3</td>\n",
              "      <td>Aéroport CDG</td>\n",
              "      <td>49.009900</td>\n",
              "      <td>2.559310</td>\n",
              "    </tr>\n",
              "    <tr>\n",
              "      <th>3</th>\n",
              "      <td>4</td>\n",
              "      <td>Aéroport de Berlin-Schönefeld</td>\n",
              "      <td>52.389446</td>\n",
              "      <td>13.520345</td>\n",
              "    </tr>\n",
              "    <tr>\n",
              "      <th>4</th>\n",
              "      <td>5</td>\n",
              "      <td>Aéroport de Dresden</td>\n",
              "      <td>51.123604</td>\n",
              "      <td>13.764737</td>\n",
              "    </tr>\n",
              "  </tbody>\n",
              "</table>\n",
              "</div>"
            ],
            "text/plain": [
              "   id                     unique_name   latitude  longitude\n",
              "0   1      Aalen (Stuttgarter Straße)  48.835296  10.092956\n",
              "1   2      Aéroport Bordeaux-Mérignac  44.830226  -0.700883\n",
              "2   3                   Aéroport CDG   49.009900   2.559310\n",
              "3   4  Aéroport de Berlin-Schönefeld   52.389446  13.520345\n",
              "4   5             Aéroport de Dresden  51.123604  13.764737"
            ]
          },
          "metadata": {
            "tags": []
          },
          "execution_count": 41
        }
      ]
    },
    {
      "cell_type": "code",
      "metadata": {
        "colab": {
          "base_uri": "https://localhost:8080/",
          "height": 204
        },
        "id": "L3lqppjLa7Zp",
        "outputId": "fd7338a5-6d8c-427d-a34c-b7ebeb0000e1"
      },
      "source": [
        "df_ticket.head()"
      ],
      "execution_count": null,
      "outputs": [
        {
          "output_type": "execute_result",
          "data": {
            "text/html": [
              "<div>\n",
              "<style scoped>\n",
              "    .dataframe tbody tr th:only-of-type {\n",
              "        vertical-align: middle;\n",
              "    }\n",
              "\n",
              "    .dataframe tbody tr th {\n",
              "        vertical-align: top;\n",
              "    }\n",
              "\n",
              "    .dataframe thead th {\n",
              "        text-align: right;\n",
              "    }\n",
              "</style>\n",
              "<table border=\"1\" class=\"dataframe\">\n",
              "  <thead>\n",
              "    <tr style=\"text-align: right;\">\n",
              "      <th></th>\n",
              "      <th>id</th>\n",
              "      <th>company</th>\n",
              "      <th>o_station</th>\n",
              "      <th>d_station</th>\n",
              "      <th>departure_ts</th>\n",
              "      <th>arrival_ts</th>\n",
              "      <th>price_in_cents</th>\n",
              "      <th>search_ts</th>\n",
              "      <th>middle_stations</th>\n",
              "      <th>other_companies</th>\n",
              "      <th>o_city</th>\n",
              "      <th>d_city</th>\n",
              "    </tr>\n",
              "  </thead>\n",
              "  <tbody>\n",
              "    <tr>\n",
              "      <th>0</th>\n",
              "      <td>6795025</td>\n",
              "      <td>8385</td>\n",
              "      <td>NaN</td>\n",
              "      <td>NaN</td>\n",
              "      <td>2017-10-13 14:00:00+00:00</td>\n",
              "      <td>2017-10-13 20:10:00+00:00</td>\n",
              "      <td>4550</td>\n",
              "      <td>2017-10-01 00:13:31.327+00</td>\n",
              "      <td>NaN</td>\n",
              "      <td>NaN</td>\n",
              "      <td>611</td>\n",
              "      <td>542</td>\n",
              "    </tr>\n",
              "    <tr>\n",
              "      <th>1</th>\n",
              "      <td>6795026</td>\n",
              "      <td>9</td>\n",
              "      <td>63.0</td>\n",
              "      <td>1044.0</td>\n",
              "      <td>2017-10-13 13:05:00+00:00</td>\n",
              "      <td>2017-10-14 06:55:00+00:00</td>\n",
              "      <td>1450</td>\n",
              "      <td>2017-10-01 00:13:35.773+00</td>\n",
              "      <td>{149,418}</td>\n",
              "      <td>{13}</td>\n",
              "      <td>611</td>\n",
              "      <td>542</td>\n",
              "    </tr>\n",
              "    <tr>\n",
              "      <th>2</th>\n",
              "      <td>6795027</td>\n",
              "      <td>8377</td>\n",
              "      <td>5905.0</td>\n",
              "      <td>6495.0</td>\n",
              "      <td>2017-10-13 13:27:00+00:00</td>\n",
              "      <td>2017-10-14 21:24:00+00:00</td>\n",
              "      <td>7400</td>\n",
              "      <td>2017-10-01 00:13:40.212+00</td>\n",
              "      <td>{798,798,6794,6246}</td>\n",
              "      <td>{8377,8376}</td>\n",
              "      <td>611</td>\n",
              "      <td>542</td>\n",
              "    </tr>\n",
              "    <tr>\n",
              "      <th>3</th>\n",
              "      <td>6795028</td>\n",
              "      <td>8377</td>\n",
              "      <td>5905.0</td>\n",
              "      <td>6495.0</td>\n",
              "      <td>2017-10-13 13:27:00+00:00</td>\n",
              "      <td>2017-10-14 11:02:00+00:00</td>\n",
              "      <td>13500</td>\n",
              "      <td>2017-10-01 00:13:40.213+00</td>\n",
              "      <td>{798,798,6794,6246}</td>\n",
              "      <td>{8377,8376}</td>\n",
              "      <td>611</td>\n",
              "      <td>542</td>\n",
              "    </tr>\n",
              "    <tr>\n",
              "      <th>4</th>\n",
              "      <td>6795029</td>\n",
              "      <td>8381</td>\n",
              "      <td>5905.0</td>\n",
              "      <td>6495.0</td>\n",
              "      <td>2017-10-13 21:46:00+00:00</td>\n",
              "      <td>2017-10-14 19:32:00+00:00</td>\n",
              "      <td>7710</td>\n",
              "      <td>2017-10-01 00:13:40.213+00</td>\n",
              "      <td>{5983,5983}</td>\n",
              "      <td>{8380}</td>\n",
              "      <td>611</td>\n",
              "      <td>542</td>\n",
              "    </tr>\n",
              "  </tbody>\n",
              "</table>\n",
              "</div>"
            ],
            "text/plain": [
              "        id  company  o_station  ...  other_companies o_city d_city\n",
              "0  6795025     8385        NaN  ...              NaN    611    542\n",
              "1  6795026        9       63.0  ...             {13}    611    542\n",
              "2  6795027     8377     5905.0  ...      {8377,8376}    611    542\n",
              "3  6795028     8377     5905.0  ...      {8377,8376}    611    542\n",
              "4  6795029     8381     5905.0  ...           {8380}    611    542\n",
              "\n",
              "[5 rows x 12 columns]"
            ]
          },
          "metadata": {
            "tags": []
          },
          "execution_count": 42
        }
      ]
    },
    {
      "cell_type": "markdown",
      "metadata": {
        "id": "fz9jIIzSDiGX"
      },
      "source": [
        "## First Mission"
      ]
    },
    {
      "cell_type": "code",
      "metadata": {
        "colab": {
          "base_uri": "https://localhost:8080/",
          "height": 388
        },
        "id": "7nzVerQ6Uxea",
        "outputId": "085898e4-60ee-4cc6-9d9d-b2473a2ad8a3"
      },
      "source": [
        "min_ticket_price = min(df_ticket['price_in_cents'])\r\n",
        "max_ticket_price = max(df_ticket['price_in_cents'])\r\n",
        "avg_ticket_price = df_ticket['price_in_cents'].mean()\r\n",
        "#number of ticket by the ticket price\r\n",
        "df_ticket.groupby('price_in_cents')['price_in_cents'].count().plot()\r\n",
        "print('minimal price for a ticket is ', min_ticket_price ,' cents')\r\n",
        "print('maximal price for a ticket is ', max_ticket_price ,' cents')\r\n",
        "print('average price for a ticket is ', avg_ticket_price ,' cents')\r\n"
      ],
      "execution_count": 4,
      "outputs": [
        {
          "output_type": "stream",
          "text": [
            "minimal price for a ticket is  300  cents\n",
            "maximal price for a ticket is  38550  cents\n",
            "average price for a ticket is  4382.711061374178  cents\n"
          ],
          "name": "stdout"
        },
        {
          "output_type": "display_data",
          "data": {
            "image/png": "[encoded data removed]",
            "text/plain": [
              "<Figure size 1080x360 with 1 Axes>"
            ]
          },
          "metadata": {
            "tags": []
          }
        }
      ]
    },
    {
      "cell_type": "markdown",
      "metadata": {
        "id": "6BbGf8w_Ghf8"
      },
      "source": [
        "je convertis les chaînes de caractère en datatime64 pour faire une simple soustraction et obtenir le temps de voyage "
      ]
    },
    {
      "cell_type": "code",
      "metadata": {
        "colab": {
          "base_uri": "https://localhost:8080/",
          "height": 388
        },
        "id": "YkECdDylUzHM",
        "outputId": "30cc2ee8-18a7-4ea5-91c9-8af83374b360"
      },
      "source": [
        "#convert string to datatime64\r\n",
        "df_ticket['departure_ts'] = pd.to_datetime(df_ticket['departure_ts'])\r\n",
        "df_ticket['arrival_ts'] = pd.to_datetime(df_ticket['arrival_ts'])\r\n",
        "df_travelTime = pd.DataFrame()\r\n",
        "df_travelTime['travel_time'] = df_ticket['arrival_ts']-df_ticket['departure_ts']\r\n",
        "#number of ticket by the travel time\r\n",
        "df_travelTime.groupby('travel_time')['travel_time'].value_counts().plot()\r\n",
        "min_travelTime = min(df_travelTime['travel_time'])\r\n",
        "max_travelTime = max(df_travelTime['travel_time'])\r\n",
        "avg_travelTime = df_travelTime['travel_time'].mean()\r\n",
        "\r\n",
        "print('minimal travel time is ', min_travelTime )\r\n",
        "print('maximal travel time is ', max_travelTime )\r\n",
        "print('average travel time is ', avg_travelTime )"
      ],
      "execution_count": 5,
      "outputs": [
        {
          "output_type": "stream",
          "text": [
            "minimal travel time is  0 days 00:20:00\n",
            "maximal travel time is  20 days 12:51:00\n",
            "average travel time is  0 days 07:04:37.247600043\n"
          ],
          "name": "stdout"
        },
        {
          "output_type": "display_data",
          "data": {
            "image/png": "[encoded data removed]",
            "text/plain": [
              "<Figure size 1080x360 with 1 Axes>"
            ]
          },
          "metadata": {
            "tags": []
          }
        }
      ]
    },
    {
      "cell_type": "markdown",
      "metadata": {
        "id": "2s1WwN4TD1pw"
      },
      "source": [
        "## Second Mission"
      ]
    },
    {
      "cell_type": "markdown",
      "metadata": {
        "id": "JDuRfpbBG-5E"
      },
      "source": [
        "J'ai choisi de créer une fonction pour obtenir la distance à partir des coordonnées sphérique pour pouvoir l'utiliser ultérieurement."
      ]
    },
    {
      "cell_type": "code",
      "metadata": {
        "id": "sbwcPwHm5BQK"
      },
      "source": [
        "import math\r\n",
        "def distance(lat1, lon1, lat2, lon2):\r\n",
        "    radius = 6371  # km\r\n",
        "    dlat = math.radians(lat2 - lat1)\r\n",
        "    dlon = math.radians(lon2 - lon1)\r\n",
        "    a = (math.sin(dlat / 2) * math.sin(dlat / 2) + math.cos(math.radians(lat1)) * math.cos(math.radians(lat2)) * math.sin(dlon / 2) * math.sin(dlon / 2))\r\n",
        "    c = 2 * math.atan2(math.sqrt(a), math.sqrt(1 - a))\r\n",
        "    d = radius * c\r\n",
        "\r\n",
        "    return d"
      ],
      "execution_count": 6,
      "outputs": []
    },
    {
      "cell_type": "markdown",
      "metadata": {
        "id": "Qj9-fTMHHaX2"
      },
      "source": [
        "J'ai choisi de faire un boucle for pour la simplicité de mise en place, mais le temps de calcul est élevé. Mais elle permet d'avoir la distance pour tous les voyages."
      ]
    },
    {
      "cell_type": "code",
      "metadata": {
        "id": "QixCUmxRbyr2",
        "colab": {
          "base_uri": "https://localhost:8080/",
          "height": 354
        },
        "outputId": "303b611f-0447-49a3-a759-d173abab0a33"
      },
      "source": [
        "df_ticket_withDistance = df_ticket.copy()\r\n",
        "distances = []\r\n",
        "for index, row in df_ticket.iterrows():\r\n",
        "  departure_city = row['o_city']\r\n",
        "  arrival_city = row['d_city']\r\n",
        "  departure_city_row = df_cities.loc[df_cities['id'] == departure_city]\r\n",
        "  arrival_city_row = df_cities.loc[df_cities['id'] == arrival_city]\r\n",
        "  lat1 = arrival_city_row['latitude'].values \r\n",
        "  lat2 = departure_city_row['latitude'].values\r\n",
        "  lon1 = arrival_city_row['longitude'].values \r\n",
        "  lon2 = departure_city_row['longitude'].values\r\n",
        "  dist = distance(lat1, lon1, lat2, lon2)\r\n",
        "  distances.append(dist)\r\n",
        "# fill the dataframe with the distance between cities\r\n",
        "df_ticket_withDistance['distances'] = distances\r\n",
        "#number of ticket by the travel distance\r\n",
        "df_ticket_withDistance.groupby('distances')['distances'].count().plot()"
      ],
      "execution_count": 7,
      "outputs": [
        {
          "output_type": "execute_result",
          "data": {
            "text/plain": [
              "<matplotlib.axes._subplots.AxesSubplot at 0x7f5d1ddc8ed0>"
            ]
          },
          "metadata": {
            "tags": []
          },
          "execution_count": 7
        },
        {
          "output_type": "display_data",
          "data": {
            "image/png": "[encoded data removed]",
            "text/plain": [
              "<Figure size 1080x360 with 1 Axes>"
            ]
          },
          "metadata": {
            "tags": []
          }
        }
      ]
    },
    {
      "cell_type": "markdown",
      "metadata": {
        "id": "sOpgNNHMIBeu"
      },
      "source": [
        "Ici, on sépare les différents cas en fonction de la distance puis du mode de transport. Les cas des 'nan' n'est pas gérer pour question de simplicité."
      ]
    },
    {
      "cell_type": "code",
      "metadata": {
        "id": "nNaZNTSY1Gsr"
      },
      "source": [
        "df_ticket_over2000 = df_ticket_withDistance[df_ticket_withDistance['distances'] > 2000]\r\n",
        "\r\n",
        "df_ticket_800_2000 = df_ticket_withDistance[df_ticket_withDistance['distances'] > 800]\r\n",
        "df_ticket_800_2000 = df_ticket_800_2000[df_ticket_800_2000['distances'] <= 2000]\r\n",
        "\r\n",
        "df_ticket_200_800 = df_ticket_withDistance[df_ticket_withDistance['distances'] > 200]\r\n",
        "df_ticket_200_800 = df_ticket_200_800[df_ticket_200_800['distances'] <= 800]\r\n",
        "\r\n",
        "df_ticket_0_200 = df_ticket_withDistance[df_ticket_withDistance['distances'] <= 200]\r\n",
        "\r\n",
        "# merge ticket dataframe and company dataframe to get ticket price and transport type\r\n",
        "df_ticket_0_200_company = df_ticket_0_200.merge(df_providers,how='inner' ,left_on='company' ,right_on='company_id')\r\n",
        "df_ticket_200_800_company = df_ticket_200_800.merge(df_providers,how='inner' ,left_on='company' ,right_on='company_id')\r\n",
        "df_ticket_800_2000_company = df_ticket_800_2000.merge(df_providers,how='inner' ,left_on='company' ,right_on='company_id')\r\n",
        "df_ticket_over2000_company = df_ticket_over2000.merge(df_providers,how='inner' ,left_on='company' ,right_on='company_id')\r\n",
        "\r\n",
        "# dataframe of ticket for traject under 200km\r\n",
        "df_ticket_0_200_company_bus = df_ticket_0_200_company.loc[df_ticket_0_200_company['transport_type'] == 'bus']\r\n",
        "df_travelTime_0_200_company_bus = df_ticket_0_200_company_bus['arrival_ts']-df_ticket_0_200_company_bus['departure_ts']\r\n",
        "df_ticket_0_200_company_carpooling = df_ticket_0_200_company.loc[df_ticket_0_200_company['transport_type'] == 'carpooling']\r\n",
        "df_travelTime_0_200_company_carpooling = df_ticket_0_200_company_carpooling['arrival_ts']-df_ticket_0_200_company_carpooling['departure_ts']\r\n",
        "df_ticket_0_200_company_train = df_ticket_0_200_company.loc[df_ticket_0_200_company['transport_type'] == 'train']\r\n",
        "df_travelTime_0_200_company_train = df_ticket_0_200_company_train['arrival_ts']-df_ticket_0_200_company_train['departure_ts']\r\n",
        "\r\n",
        "# dataframe of ticket for traject between 200km and 800km\r\n",
        "df_ticket_200_800_company_bus = df_ticket_200_800_company.loc[df_ticket_200_800_company['transport_type'] == 'bus']\r\n",
        "df_travelTime_200_800_company_bus = df_ticket_200_800_company_bus['arrival_ts']-df_ticket_200_800_company_bus['departure_ts']\r\n",
        "df_ticket_200_800_company_carpooling = df_ticket_200_800_company.loc[df_ticket_200_800_company['transport_type'] == 'carpooling']\r\n",
        "df_travelTime_200_800_company_carpooling= df_ticket_200_800_company_carpooling['arrival_ts']-df_ticket_200_800_company_carpooling['departure_ts']\r\n",
        "df_ticket_200_800_company_train = df_ticket_200_800_company.loc[df_ticket_200_800_company['transport_type'] == 'train']\r\n",
        "df_travelTime_200_800_company_train = df_ticket_200_800_company_train['arrival_ts']-df_ticket_200_800_company_train['departure_ts']\r\n",
        "\r\n",
        "# dataframe of ticket for traject between 800km and 2000km\r\n",
        "df_ticket_800_2000_company_bus = df_ticket_800_2000_company.loc[df_ticket_800_2000_company['transport_type'] == 'bus']\r\n",
        "df_travelTime_800_2000_company_bus = df_ticket_800_2000_company_bus['arrival_ts']-df_ticket_800_2000_company_bus['departure_ts']\r\n",
        "df_ticket_800_2000_company_carpooling = df_ticket_800_2000_company.loc[df_ticket_800_2000_company['transport_type'] == 'carpooling']\r\n",
        "df_travelTime_800_2000_company_carpooling = df_ticket_800_2000_company_carpooling['arrival_ts']-df_ticket_800_2000_company_carpooling['departure_ts']\r\n",
        "df_ticket_800_2000_company_train = df_ticket_800_2000_company.loc[df_ticket_800_2000_company['transport_type'] == 'train']\r\n",
        "df_travelTime_800_2000_company_train = df_ticket_800_2000_company_train['arrival_ts']-df_ticket_800_2000_company_train['departure_ts']\r\n",
        "\r\n",
        "# dataframe of ticket for traject over 2000km \r\n",
        "df_ticket_over2000_company_bus = df_ticket_over2000_company.loc[df_ticket_over2000_company['transport_type'] == 'bus']\r\n",
        "df_travelTime_over2000_company_bus = df_ticket_over2000_company_bus['arrival_ts']-df_ticket_over2000_company_bus['departure_ts']\r\n",
        "df_ticket_over2000_company_carpooling = df_ticket_over2000_company.loc[df_ticket_over2000_company['transport_type'] == 'carpooling']\r\n",
        "df_travelTime_over2000_company_carpooling = df_ticket_over2000_company_carpooling['arrival_ts']-df_ticket_over2000_company_carpooling['departure_ts']\r\n",
        "df_ticket_over2000_company_train = df_ticket_over2000_company.loc[df_ticket_over2000_company['transport_type'] == 'train']\r\n",
        "df_travelTime_over2000_company_train = df_ticket_over2000_company_train['arrival_ts']-df_ticket_over2000_company_train['departure_ts']\r\n"
      ],
      "execution_count": 11,
      "outputs": []
    },
    {
      "cell_type": "code",
      "metadata": {
        "colab": {
          "base_uri": "https://localhost:8080/"
        },
        "id": "xWonVppaQ2es",
        "outputId": "ffea2582-1f11-4aba-d9f4-f177809dc362"
      },
      "source": [
        "# print ticket price for traject under 200km\r\n",
        "print('average price for a traject under 200km in bus ',df_ticket_0_200_company_bus['price_in_cents'].mean(),' in cents with a average travel time of : ',df_travelTime_0_200_company_bus.mean())\r\n",
        "print('average price for a traject under 200km in carpooling ',df_ticket_0_200_company_carpooling['price_in_cents'].mean(),' in cents with a average travel time of : ',df_travelTime_0_200_company_carpooling.mean())\r\n",
        "print('average price for a traject under 200km in train ',df_ticket_0_200_company_train['price_in_cents'].mean(),' in cents  with a average travel time of : ',df_travelTime_0_200_company_train.mean())\r\n"
      ],
      "execution_count": 12,
      "outputs": [
        {
          "output_type": "stream",
          "text": [
            "average price for a traject under 200km in bus  2093.8805970149256  in cents with a average travel time of :  0 days 10:05:32.238805970\n",
            "average price for a traject under 200km in carpooling  1990.0  in cents with a average travel time of :  0 days 14:15:00\n",
            "average price for a traject under 200km in train  nan  in cents  with a average travel time of :  NaT\n"
          ],
          "name": "stdout"
        }
      ]
    },
    {
      "cell_type": "code",
      "metadata": {
        "colab": {
          "base_uri": "https://localhost:8080/"
        },
        "id": "KbVEjeCtQ2Se",
        "outputId": "25f571dc-43e1-428c-a861-f9dca9c2b4e4"
      },
      "source": [
        "# print ticket price for traject between 200km and 800km\r\n",
        "print('average price for a traject between 200km and 800km in bus ',df_ticket_200_800_company_bus['price_in_cents'].mean(),' in cents with a average travel time of : ',df_travelTime_200_800_company_bus.mean())\r\n",
        "print('average price for a traject between 200km and 800km in carpooling ',df_ticket_200_800_company_carpooling['price_in_cents'].mean(),' in cents with a average travel time of : ',df_travelTime_200_800_company_carpooling.mean())\r\n",
        "print('average price for a traject between 200km and 800km in train ',df_ticket_200_800_company_train['price_in_cents'].mean(),' in cents with a average travel time of : ',df_travelTime_200_800_company_train.mean())\r\n"
      ],
      "execution_count": 13,
      "outputs": [
        {
          "output_type": "stream",
          "text": [
            "average price for a traject between 200km and 800km in bus  3273.347277023231  in cents with a average travel time of :  0 days 13:59:11.947258864\n",
            "average price for a traject between 200km and 800km in carpooling  4338.5  in cents with a average travel time of :  0 days 10:36:15\n",
            "average price for a traject between 200km and 800km in train  3265.5555555555557  in cents with a average travel time of :  0 days 12:42:13.333333333\n"
          ],
          "name": "stdout"
        }
      ]
    },
    {
      "cell_type": "code",
      "metadata": {
        "colab": {
          "base_uri": "https://localhost:8080/"
        },
        "id": "3bNTrfiNQ2C-",
        "outputId": "6f594ad6-10db-4c27-f1af-0888ccebaafc"
      },
      "source": [
        "# print ticket price for traject between 800km and 2000km\r\n",
        "print('average price for a traject between 800km and 2000km in bus ',df_ticket_800_2000_company_bus['price_in_cents'].mean(),' in cents with a average travel time of : ',df_travelTime_800_2000_company_bus.mean())\r\n",
        "print('average price for a traject between 800km and 2000km in carpooling ',df_ticket_800_2000_company_carpooling['price_in_cents'].mean(),' in cents with a average travel time of : ',df_travelTime_800_2000_company_carpooling.mean())\r\n",
        "print('average price for a traject between 800km and 2000km in train ',df_ticket_800_2000_company_train['price_in_cents'].mean(),' in cents with a average travel time of :  ',df_travelTime_800_2000_company_train.mean())\r\n"
      ],
      "execution_count": 14,
      "outputs": [
        {
          "output_type": "stream",
          "text": [
            "average price for a traject between 800km and 2000km in bus  6112.710280373832  in cents with a average travel time of :  1 days 00:25:07.009345794\n",
            "average price for a traject between 800km and 2000km in carpooling  nan  in cents with a average travel time of :  NaT\n",
            "average price for a traject between 800km and 2000km in train  nan  in cents with a average travel time of :   NaT\n"
          ],
          "name": "stdout"
        }
      ]
    },
    {
      "cell_type": "code",
      "metadata": {
        "colab": {
          "base_uri": "https://localhost:8080/"
        },
        "id": "tCywhl5HTZgb",
        "outputId": "5a5913a6-1c56-41c3-d64f-d39c127aca7a"
      },
      "source": [
        "# print ticket price for traject over 2000km \r\n",
        "print('average price for a traject over 2000km in bus ',df_ticket_over2000_company_bus['price_in_cents'].mean(),' in cents with a average travel time of : ',df_travelTime_over2000_company_bus.mean())\r\n",
        "print('average price for a traject over 2000km in carpooling ',df_ticket_over2000_company_carpooling['price_in_cents'].mean(),' in cents with a average travel time of : ',df_travelTime_over2000_company_carpooling.mean())\r\n",
        "print('average price for a traject over 2000km in train ',df_ticket_over2000_company_train['price_in_cents'].mean(),' in cents with a average travel time of :  ',df_travelTime_over2000_company_train.mean())\r\n"
      ],
      "execution_count": 15,
      "outputs": [
        {
          "output_type": "stream",
          "text": [
            "average price for a traject over 2000km in bus  nan  in cents with a average travel time of :  NaT\n",
            "average price for a traject over 2000km in carpooling  nan  in cents with a average travel time of :  NaT\n",
            "average price for a traject over 2000km in train  nan  in cents with a average travel time of :   NaT\n"
          ],
          "name": "stdout"
        }
      ]
    },
    {
      "cell_type": "markdown",
      "metadata": {
        "id": "WVt5JVz4D47S"
      },
      "source": [
        "## Bonus Mission"
      ]
    },
    {
      "cell_type": "markdown",
      "metadata": {
        "id": "ClHIGW9wIvhm"
      },
      "source": [
        "Ici, j'ai voulu permettre de pouvoir choisir la ville de départ et la ville d'arriver et afficher le temps minimal de trajet ainsi que le voyage le moins coûteux.\r\n",
        "Pour cela, j'ai utilisé les mêmes principes que précédemment pour trier et faire ressortir les éléments désirés."
      ]
    },
    {
      "cell_type": "code",
      "metadata": {
        "colab": {
          "base_uri": "https://localhost:8080/",
          "height": 227
        },
        "id": "7cSpRFocyNOv",
        "outputId": "c7c4cd99-1b96-415f-ebaf-54cd957b8dc0"
      },
      "source": [
        "import sys\r\n",
        "# enter a departure city and check if it's in the database\r\n",
        "departure = input(\"Enter your departure city: \")  \r\n",
        "departure_city_row = df_cities.loc[df_cities['unique_name'] == departure]\r\n",
        "if departure_city_row.empty == True:\r\n",
        "  sys.exit('there is no city with that name un the database')\r\n",
        "# enter an arrival city and check if it's in the database\r\n",
        "destination = input(\"Enter your destination city: \") \r\n",
        "arrival_city_row = df_cities.loc[df_cities['unique_name'] == destination]\r\n",
        "if arrival_city_row.empty == True:\r\n",
        "  sys.exit('there is no city with that name un the database')\r\n",
        "\r\n",
        "# get distance between those cities\r\n",
        "dist = distance(departure_city_row['latitude'].values[0], departure_city_row['longitude'].values[0], arrival_city_row['latitude'].values[0], arrival_city_row['longitude'].values[0])\r\n",
        "print('distance between cities: ',dist)\r\n",
        "\r\n",
        "departure_id = departure_city_row['id'].values[0]\r\n",
        "arrival_id = arrival_city_row['id'].values[0]\r\n",
        "df_departure = df_ticket.loc[df_ticket['o_city'] == departure_id]\r\n",
        "df_departure_arrival = df_departure[df_departure['d_city'] == arrival_id]\r\n",
        "\r\n",
        "# get the lowest travel time\r\n",
        "min_time = min(df_departure_arrival['arrival_ts']-df_departure_arrival['departure_ts'])\r\n",
        "print('mininal travel time: ',min_time)\r\n",
        "\r\n",
        "# get lowest price\r\n",
        "min_price = min(df_departure_arrival['price_in_cents'])\r\n",
        "print('minimal price: ',min_price)\r\n",
        "df_departure_arrival[df_departure_arrival['price_in_cents'] == min_price].head()"
      ],
      "execution_count": 16,
      "outputs": [
        {
          "output_type": "stream",
          "text": [
            "Enter your departure city: paris\n",
            "Enter your destination city: lyon\n",
            "distance between cities:  390.6282633081959\n",
            "mininal travel time:  0 days 03:00:00\n",
            "minimal price:  1550\n"
          ],
          "name": "stdout"
        },
        {
          "output_type": "execute_result",
          "data": {
            "text/html": [
              "<div>\n",
              "<style scoped>\n",
              "    .dataframe tbody tr th:only-of-type {\n",
              "        vertical-align: middle;\n",
              "    }\n",
              "\n",
              "    .dataframe tbody tr th {\n",
              "        vertical-align: top;\n",
              "    }\n",
              "\n",
              "    .dataframe thead th {\n",
              "        text-align: right;\n",
              "    }\n",
              "</style>\n",
              "<table border=\"1\" class=\"dataframe\">\n",
              "  <thead>\n",
              "    <tr style=\"text-align: right;\">\n",
              "      <th></th>\n",
              "      <th>id</th>\n",
              "      <th>company</th>\n",
              "      <th>o_station</th>\n",
              "      <th>d_station</th>\n",
              "      <th>departure_ts</th>\n",
              "      <th>arrival_ts</th>\n",
              "      <th>price_in_cents</th>\n",
              "      <th>search_ts</th>\n",
              "      <th>middle_stations</th>\n",
              "      <th>other_companies</th>\n",
              "      <th>o_city</th>\n",
              "      <th>d_city</th>\n",
              "    </tr>\n",
              "  </thead>\n",
              "  <tbody>\n",
              "    <tr>\n",
              "      <th>45195</th>\n",
              "      <td>6840220</td>\n",
              "      <td>8385</td>\n",
              "      <td>NaN</td>\n",
              "      <td>NaN</td>\n",
              "      <td>2017-10-13 00:00:00+00:00</td>\n",
              "      <td>2017-10-13 05:00:00+00:00</td>\n",
              "      <td>1550</td>\n",
              "      <td>2017-10-12 13:31:25.443+00</td>\n",
              "      <td>NaN</td>\n",
              "      <td>NaN</td>\n",
              "      <td>628</td>\n",
              "      <td>485</td>\n",
              "    </tr>\n",
              "    <tr>\n",
              "      <th>46096</th>\n",
              "      <td>6841121</td>\n",
              "      <td>8385</td>\n",
              "      <td>NaN</td>\n",
              "      <td>NaN</td>\n",
              "      <td>2017-10-13 00:00:00+00:00</td>\n",
              "      <td>2017-10-13 05:00:00+00:00</td>\n",
              "      <td>1550</td>\n",
              "      <td>2017-10-12 15:39:14.323+00</td>\n",
              "      <td>NaN</td>\n",
              "      <td>NaN</td>\n",
              "      <td>628</td>\n",
              "      <td>485</td>\n",
              "    </tr>\n",
              "    <tr>\n",
              "      <th>46222</th>\n",
              "      <td>6841247</td>\n",
              "      <td>8385</td>\n",
              "      <td>NaN</td>\n",
              "      <td>NaN</td>\n",
              "      <td>2017-10-13 00:00:00+00:00</td>\n",
              "      <td>2017-10-13 05:00:00+00:00</td>\n",
              "      <td>1550</td>\n",
              "      <td>2017-10-12 15:41:10.157+00</td>\n",
              "      <td>NaN</td>\n",
              "      <td>NaN</td>\n",
              "      <td>628</td>\n",
              "      <td>485</td>\n",
              "    </tr>\n",
              "  </tbody>\n",
              "</table>\n",
              "</div>"
            ],
            "text/plain": [
              "            id  company  o_station  ...  other_companies o_city d_city\n",
              "45195  6840220     8385        NaN  ...              NaN    628    485\n",
              "46096  6841121     8385        NaN  ...              NaN    628    485\n",
              "46222  6841247     8385        NaN  ...              NaN    628    485\n",
              "\n",
              "[3 rows x 12 columns]"
            ]
          },
          "metadata": {
            "tags": []
          },
          "execution_count": 16
        }
      ]
    }
  ]
}